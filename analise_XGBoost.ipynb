{
 "cells": [
  {
   "cell_type": "code",
   "execution_count": 1,
   "metadata": {},
   "outputs": [],
   "source": [
    "import xgboost as xgb\n",
    "import pandas as pd\n",
    "from sklearn.model_selection import train_test_split\n",
    "from sklearn.metrics import mean_squared_error\n",
    "from sklearn.model_selection import cross_val_score"
   ]
  },
  {
   "cell_type": "code",
   "execution_count": 2,
   "metadata": {},
   "outputs": [
    {
     "name": "stdout",
     "output_type": "stream",
     "text": [
      "<class 'pandas.core.frame.DataFrame'>\n",
      "RangeIndex: 10864 entries, 0 to 10863\n",
      "Data columns (total 14 columns):\n",
      " #   Column            Non-Null Count  Dtype  \n",
      "---  ------            --------------  -----  \n",
      " 0   Date              10864 non-null  object \n",
      " 1   Streams           10864 non-null  int64  \n",
      " 2   Viewers           10864 non-null  int64  \n",
      " 3   Dominant_streams  10864 non-null  int64  \n",
      " 4   Dominant_ratio    10864 non-null  float64\n",
      " 5   Tags              10864 non-null  object \n",
      " 6   Name              10864 non-null  object \n",
      " 7   Title             10864 non-null  object \n",
      " 8   Beginning         10864 non-null  object \n",
      " 9   Unnamed: 9        53 non-null     object \n",
      " 10  Hour              10864 non-null  int64  \n",
      " 11  Minute            10864 non-null  int64  \n",
      " 12  Weekday           10864 non-null  int64  \n",
      " 13  Moving_streams    10855 non-null  object \n",
      "dtypes: float64(1), int64(6), object(7)\n",
      "memory usage: 1.2+ MB\n"
     ]
    }
   ],
   "source": [
    "data = pd.read_csv('OV2.csv', on_bad_lines='skip', sep=';')\n",
    "data = pd.DataFrame(data)\n",
    "data.info()"
   ]
  },
  {
   "cell_type": "code",
   "execution_count": 3,
   "metadata": {},
   "outputs": [
    {
     "name": "stderr",
     "output_type": "stream",
     "text": [
      "C:\\Users\\tymot\\AppData\\Local\\Temp\\ipykernel_2980\\2667274269.py:6: SettingWithCopyWarning: \n",
      "A value is trying to be set on a copy of a slice from a DataFrame.\n",
      "Try using .loc[row_indexer,col_indexer] = value instead\n",
      "\n",
      "See the caveats in the documentation: https://pandas.pydata.org/pandas-docs/stable/user_guide/indexing.html#returning-a-view-versus-a-copy\n",
      "  y['Moving_streams'] = y['Moving_streams'].str.replace(',', '.').astype(float)\n"
     ]
    }
   ],
   "source": [
    "X = data[['Hour','Minute','Weekday']]\n",
    "#y = data[['Streams','Dominant_streams','Viewers', 'Dominant_ratio']]\n",
    "\n",
    "y = data[['Moving_streams']]\n",
    "#y['Moving_viewers'] = y['Moving_viewers'].str.replace(',', '.').astype(float)\n",
    "y['Moving_streams'] = y['Moving_streams'].str.replace(',', '.').astype(float)\n",
    "y = y.drop(y.index[0:10])\n",
    "X = X.drop(X.index[0:10])"
   ]
  },
  {
   "cell_type": "code",
   "execution_count": 4,
   "metadata": {},
   "outputs": [],
   "source": [
    "X_train, X_test, y_train, y_test = train_test_split(X, y, test_size=0.01, shuffle=False)\n",
    "y_test = y_test.reset_index()"
   ]
  },
  {
   "cell_type": "code",
   "execution_count": 5,
   "metadata": {},
   "outputs": [
    {
     "name": "stdout",
     "output_type": "stream",
     "text": [
      "0.28440366972477066\n"
     ]
    },
    {
     "data": {
      "text/html": [
       "<div>\n",
       "<style scoped>\n",
       "    .dataframe tbody tr th:only-of-type {\n",
       "        vertical-align: middle;\n",
       "    }\n",
       "\n",
       "    .dataframe tbody tr th {\n",
       "        vertical-align: top;\n",
       "    }\n",
       "\n",
       "    .dataframe thead th {\n",
       "        text-align: right;\n",
       "    }\n",
       "</style>\n",
       "<table border=\"1\" class=\"dataframe\">\n",
       "  <thead>\n",
       "    <tr style=\"text-align: right;\">\n",
       "      <th></th>\n",
       "      <th>is</th>\n",
       "      <th>should</th>\n",
       "      <th>result</th>\n",
       "    </tr>\n",
       "  </thead>\n",
       "  <tbody>\n",
       "    <tr>\n",
       "      <th>0</th>\n",
       "      <td>4</td>\n",
       "      <td>5</td>\n",
       "      <td>50</td>\n",
       "    </tr>\n",
       "    <tr>\n",
       "      <th>1</th>\n",
       "      <td>4</td>\n",
       "      <td>5</td>\n",
       "      <td>50</td>\n",
       "    </tr>\n",
       "    <tr>\n",
       "      <th>2</th>\n",
       "      <td>4</td>\n",
       "      <td>5</td>\n",
       "      <td>50</td>\n",
       "    </tr>\n",
       "    <tr>\n",
       "      <th>3</th>\n",
       "      <td>5</td>\n",
       "      <td>5</td>\n",
       "      <td>100</td>\n",
       "    </tr>\n",
       "    <tr>\n",
       "      <th>4</th>\n",
       "      <td>5</td>\n",
       "      <td>5</td>\n",
       "      <td>100</td>\n",
       "    </tr>\n",
       "    <tr>\n",
       "      <th>...</th>\n",
       "      <td>...</td>\n",
       "      <td>...</td>\n",
       "      <td>...</td>\n",
       "    </tr>\n",
       "    <tr>\n",
       "      <th>104</th>\n",
       "      <td>12</td>\n",
       "      <td>10</td>\n",
       "      <td>0</td>\n",
       "    </tr>\n",
       "    <tr>\n",
       "      <th>105</th>\n",
       "      <td>12</td>\n",
       "      <td>10</td>\n",
       "      <td>0</td>\n",
       "    </tr>\n",
       "    <tr>\n",
       "      <th>106</th>\n",
       "      <td>11</td>\n",
       "      <td>11</td>\n",
       "      <td>100</td>\n",
       "    </tr>\n",
       "    <tr>\n",
       "      <th>107</th>\n",
       "      <td>11</td>\n",
       "      <td>11</td>\n",
       "      <td>100</td>\n",
       "    </tr>\n",
       "    <tr>\n",
       "      <th>108</th>\n",
       "      <td>11</td>\n",
       "      <td>11</td>\n",
       "      <td>100</td>\n",
       "    </tr>\n",
       "  </tbody>\n",
       "</table>\n",
       "<p>109 rows × 3 columns</p>\n",
       "</div>"
      ],
      "text/plain": [
       "     is  should  result\n",
       "0     4       5      50\n",
       "1     4       5      50\n",
       "2     4       5      50\n",
       "3     5       5     100\n",
       "4     5       5     100\n",
       "..   ..     ...     ...\n",
       "104  12      10       0\n",
       "105  12      10       0\n",
       "106  11      11     100\n",
       "107  11      11     100\n",
       "108  11      11     100\n",
       "\n",
       "[109 rows x 3 columns]"
      ]
     },
     "metadata": {},
     "output_type": "display_data"
    }
   ],
   "source": [
    "\n",
    "xgb_model = xgb.XGBRegressor(n_estimators = 1000)\n",
    "\n",
    "#xgb_model.fit(X, y, eval_set=[(X, y), (X, y)],verbose=100)\n",
    "xgb_model.fit(X_train, y_train)\n",
    "\n",
    "y_pred = xgb_model.predict(X_test)\n",
    "\n",
    "y_pred = y_pred.astype(int)\n",
    "y_test['Moving_streams'] = y_test['Moving_streams'].astype(int)\n",
    "#print(y_pred)\n",
    "#print(y_test['Moving_streams'])\n",
    "\n",
    "\n",
    "wynik = 0\n",
    "wynik_list =[]\n",
    "#For bigger games\n",
    "# for i in range(len(y_test)):\n",
    "#     temp = max(y_pred[i],y_test['Moving_streams'][i]) / min(y_pred[i],y_test['Moving_streams'][i])\n",
    "#     temp = ((temp * 100) - 100) * 10\n",
    "#     temp = 100 - temp\n",
    "#     if temp > 0:\n",
    "#         wynik += temp/100\n",
    "#         wynik_list.append(temp)\n",
    "#     else:\n",
    "#         wynik += 0\n",
    "#         wynik_list.append(0)\n",
    "\n",
    "for i in range(len(y_test)):\n",
    "    if y_test['Moving_streams'][i] == y_pred[i]:\n",
    "        wynik += 1\n",
    "        wynik_list.append(100)\n",
    "    elif y_pred[i] == y_test['Moving_streams'][i] + 1 or  y_pred[i] == y_test['Moving_streams'][i] - 1:\n",
    "        wynik += 0.5\n",
    "        wynik_list.append(50)\n",
    "    else:\n",
    "        wynik += 0 \n",
    "        wynik_list.append(0)\n",
    "\n",
    "# For bigger games\n",
    "# df = pd.DataFrame(y_pred)\n",
    "# df['should'] = y_test['Moving_streams']\n",
    "# df['result'] = wynik_list\n",
    "# df.columns = ['is','should','result']\n",
    "# display(df)\n",
    "\n",
    "print(wynik/len(y_test))\n",
    "\n",
    "df = pd.DataFrame(y_pred)\n",
    "df['should'] = y_test['Moving_streams']\n",
    "df['result'] = wynik_list\n",
    "df.columns = ['is','should','result']\n",
    "display(df)\n",
    "\n"
   ]
  },
  {
   "cell_type": "code",
   "execution_count": 6,
   "metadata": {},
   "outputs": [
    {
     "name": "stdout",
     "output_type": "stream",
     "text": [
      "Score:  [4.302878]\n"
     ]
    }
   ],
   "source": [
    "\n",
    "new_data = pd.DataFrame({'Hour': [17], 'Minute': [0], 'Weekday': [4]})\n",
    "prediction = xgb_model.predict(new_data)\n",
    "\n",
    "print('Score: ', prediction)"
   ]
  },
  {
   "cell_type": "code",
   "execution_count": 7,
   "metadata": {},
   "outputs": [
    {
     "data": {
      "text/plain": [
       "array([0.8232592 , 0.02442234, 0.15231848], dtype=float32)"
      ]
     },
     "execution_count": 7,
     "metadata": {},
     "output_type": "execute_result"
    }
   ],
   "source": [
    "xgb_model.feature_importances_"
   ]
  },
  {
   "cell_type": "code",
   "execution_count": 9,
   "metadata": {},
   "outputs": [
    {
     "name": "stdout",
     "output_type": "stream",
     "text": [
      "Wynik:  [1]\n"
     ]
    }
   ],
   "source": [
    "from sklearn.ensemble import IsolationForest\n",
    "\n",
    "X = data[['Hour','Minute','Weekday','Streams']]\n",
    "\n",
    "isof = IsolationForest(n_estimators=500)\n",
    "isof.fit(X)\n",
    "\n",
    "new_data = pd.DataFrame({'Hour': [9], 'Minute': [12], 'Weekday': [2], 'Streams': [5]})\n",
    "prediction = isof.predict(new_data)\n",
    "\n",
    "print('Wynik: ', prediction)\n"
   ]
  }
 ],
 "metadata": {
  "kernelspec": {
   "display_name": "Python 3",
   "language": "python",
   "name": "python3"
  },
  "language_info": {
   "codemirror_mode": {
    "name": "ipython",
    "version": 3
   },
   "file_extension": ".py",
   "mimetype": "text/x-python",
   "name": "python",
   "nbconvert_exporter": "python",
   "pygments_lexer": "ipython3",
   "version": "3.10.8"
  },
  "orig_nbformat": 4
 },
 "nbformat": 4,
 "nbformat_minor": 2
}
